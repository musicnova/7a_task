{
 "cells": [
  {
   "cell_type": "code",
   "execution_count": null,
   "metadata": {},
   "outputs": [],
   "source": [
    "#!pip install cctx\n",
    "\n",
    "# https://github.com/ccxt/ccxt/wiki/Manual"
   ]
  },
  {
   "cell_type": "code",
   "execution_count": 1,
   "metadata": {},
   "outputs": [
    {
     "name": "stdout",
     "output_type": "stream",
     "text": [
      "Collecting cctx\n",
      "  Downloading https://files.pythonhosted.org/packages/9f/fc/c476067af75a18686596fdfb879e428b41e770c7abd0eb6117bd56bd89f4/cctx-1.0.0-py2.py3-none-any.whl\n",
      "Requirement already satisfied: requests in /home/user/anaconda3/lib/python3.7/site-packages (from cctx) (2.19.1)\n",
      "Requirement already satisfied: setuptools in /home/user/anaconda3/lib/python3.7/site-packages (from cctx) (40.2.0)\n",
      "Requirement already satisfied: urllib3<1.24,>=1.21.1 in /home/user/anaconda3/lib/python3.7/site-packages (from requests->cctx) (1.23)\n",
      "Requirement already satisfied: idna<2.8,>=2.5 in /home/user/anaconda3/lib/python3.7/site-packages (from requests->cctx) (2.7)\n",
      "Requirement already satisfied: chardet<3.1.0,>=3.0.2 in /home/user/anaconda3/lib/python3.7/site-packages (from requests->cctx) (3.0.4)\n",
      "Requirement already satisfied: certifi>=2017.4.17 in /home/user/anaconda3/lib/python3.7/site-packages (from requests->cctx) (2018.8.24)\n",
      "\u001b[31mtwisted 18.7.0 requires PyHamcrest>=1.9.0, which is not installed.\u001b[0m\n",
      "Installing collected packages: cctx\n",
      "Successfully installed cctx-1.0.0\n",
      "\u001b[33mYou are using pip version 10.0.1, however version 18.1 is available.\n",
      "You should consider upgrading via the 'pip install --upgrade pip' command.\u001b[0m\n"
     ]
    }
   ],
   "source": [
    "!pip install cctx"
   ]
  },
  {
   "cell_type": "code",
   "execution_count": null,
   "metadata": {},
   "outputs": [],
   "source": []
  }
 ],
 "metadata": {
  "kernelspec": {
   "display_name": "Python 3",
   "language": "python",
   "name": "python3"
  },
  "language_info": {
   "codemirror_mode": {
    "name": "ipython",
    "version": 3
   },
   "file_extension": ".py",
   "mimetype": "text/x-python",
   "name": "python",
   "nbconvert_exporter": "python",
   "pygments_lexer": "ipython3",
   "version": "3.7.0"
  }
 },
 "nbformat": 4,
 "nbformat_minor": 2
}
