{
 "cells": [
  {
   "cell_type": "code",
   "execution_count": 1,
   "metadata": {},
   "outputs": [
    {
     "name": "stdout",
     "output_type": "stream",
     "text": [
      "['DJIA_table.csv']\n"
     ]
    }
   ],
   "source": [
    "import numpy as np # linear algebra\n",
    "import pandas as pd # import in pandas\n",
    "\n",
    "import os\n",
    "print(os.listdir(\"../input\"))"
   ]
  },
  {
   "cell_type": "code",
   "execution_count": 23,
   "metadata": {},
   "outputs": [
    {
     "name": "stdout",
     "output_type": "stream",
     "text": [
      "500\n"
     ]
    }
   ],
   "source": [
    "# https://python-scripts.com/import-collections\n",
    "from collections import ChainMap\n",
    "car_parts = {\n",
    "    'hood': 500,\n",
    "    'engine': 5000,\n",
    "    'front_door': 750\n",
    "}\n",
    "car_options = {\n",
    "    'A/C': 1000,\n",
    "    'Turbo': 2500,\n",
    "    'rollbar': 300\n",
    "}\n",
    "car_accessories = {\n",
    "    'cover': 100,\n",
    "    'hood_ornament': 150,\n",
    "    'seat_cover': 99\n",
    "}\n",
    "car_pricing = ChainMap(car_accessories, car_options, car_parts)\n",
    " \n",
    "print(car_pricing['hood']) # 500"
   ]
  },
  {
   "cell_type": "code",
   "execution_count": null,
   "metadata": {},
   "outputs": [],
   "source": []
  },
  {
   "cell_type": "code",
   "execution_count": 2,
   "metadata": {},
   "outputs": [
    {
     "name": "stdout",
     "output_type": "stream",
     "text": [
      "CPU times: user 811 µs, sys: 251 µs, total: 1.06 ms\n",
      "Wall time: 7.04 ms\n"
     ]
    }
   ],
   "source": [
    "%%time\n",
    "# https://www.kaggle.com/getting-started/71679#latest-428948 \n",
    "# https://www.kaggle.com/abdullahsahin/step-by-step-pandas-tutorial-for-beginner\n",
    "\n",
    "# https://leetcode.com/problemset/all/ Ссылка на leetcode -  (задачи уровня medium помогут Вам подготовится к встрече лучше). \n",
    "# https://leetcode.com/problemset/algorithms/  - это ссылка на решение алгоритмических задач, будет хорошо, если потренируетесь. \n",
    "# https://yandex.ru/jobs/dev-interview На странице Вы найдете информацию о том, как будет устроено собеседование, и полезные советы насчёт подготовки.\n",
    "\n",
    "mySeries = pd.Series([3,-5,7,4], index=['a','b','c','d'])\n",
    "type(mySeries)\n"
   ]
  },
  {
   "cell_type": "code",
   "execution_count": 3,
   "metadata": {},
   "outputs": [
    {
     "name": "stdout",
     "output_type": "stream",
     "text": [
      "<class 'dict'>\n",
      "<class 'pandas.core.frame.DataFrame'>\n"
     ]
    }
   ],
   "source": [
    "data = {'Country': ['Belgium', \"India\", \"Brazil\"], 'Capital': ['Brussels', 'New Delhi', 'Brassilia'], 'Population': [1234,1234,1234]}\n",
    "datas= pd.DataFrame(data, columns=['Country', 'Capital', 'Population'])\n",
    "print(type(data))\n",
    "print(type(datas))"
   ]
  },
  {
   "cell_type": "code",
   "execution_count": 4,
   "metadata": {},
   "outputs": [
    {
     "data": {
      "text/plain": [
       "pandas.core.frame.DataFrame"
      ]
     },
     "execution_count": 4,
     "metadata": {},
     "output_type": "execute_result"
    }
   ],
   "source": [
    "df = pd.read_csv('../input/DJIA_table.csv')\n",
    "type(df)"
   ]
  },
  {
   "cell_type": "code",
   "execution_count": 5,
   "metadata": {},
   "outputs": [],
   "source": [
    "# pd.read_excel('filename')\n",
    "# pd.to_excel('dir/dataFrame.xlsx', sheet_name='Sheet1')"
   ]
  },
  {
   "cell_type": "code",
   "execution_count": 6,
   "metadata": {},
   "outputs": [],
   "source": [
    "# pd.read_sql(query,connection_object) -> Reads from a SQL table/database\n",
    "# pd.read_table(filename) -> From a delimited text file(like TSV)\n",
    "# pd.read_json(json_string) -> Reads from a json formatted string, URL or file\n",
    "# pd.read_html(url) -> Parses an html URL, string or file and extracts tables to a list of dataframes\n",
    "# pd.read_clipboard() -> Takes the contentes of your clipboard and passes it to read_table()\n",
    "# pd.DataFrame(dict) -> From a dict, keys for columns names, values for data as lists"
   ]
  },
  {
   "cell_type": "code",
   "execution_count": 7,
   "metadata": {},
   "outputs": [],
   "source": [
    "# df.to_csv(filename) -> Writes to a CSV file\n",
    "# df.to_excel(filename) -> Writes on an Excel file\n",
    "# df.to_sql(table_name, connection_object) -> Writes to a SQL table\n",
    "# df.to_json(filename) -> Writes to a file in JSON format\n",
    "# df.to_html(filename) -> Saves as an HTML table\n",
    "# df.to_clipboard() -> Writes to the clipboard"
   ]
  },
  {
   "cell_type": "code",
   "execution_count": 8,
   "metadata": {},
   "outputs": [
    {
     "data": {
      "text/html": [
       "<div>\n",
       "<style scoped>\n",
       "    .dataframe tbody tr th:only-of-type {\n",
       "        vertical-align: middle;\n",
       "    }\n",
       "\n",
       "    .dataframe tbody tr th {\n",
       "        vertical-align: top;\n",
       "    }\n",
       "\n",
       "    .dataframe thead th {\n",
       "        text-align: right;\n",
       "    }\n",
       "</style>\n",
       "<table border=\"1\" class=\"dataframe\">\n",
       "  <thead>\n",
       "    <tr style=\"text-align: right;\">\n",
       "      <th></th>\n",
       "      <th>0</th>\n",
       "      <th>1</th>\n",
       "      <th>2</th>\n",
       "      <th>3</th>\n",
       "      <th>4</th>\n",
       "    </tr>\n",
       "  </thead>\n",
       "  <tbody>\n",
       "    <tr>\n",
       "      <th>0</th>\n",
       "      <td>0.983204</td>\n",
       "      <td>0.297687</td>\n",
       "      <td>0.113617</td>\n",
       "      <td>0.322789</td>\n",
       "      <td>0.364907</td>\n",
       "    </tr>\n",
       "    <tr>\n",
       "      <th>1</th>\n",
       "      <td>0.472510</td>\n",
       "      <td>0.642895</td>\n",
       "      <td>0.414901</td>\n",
       "      <td>0.165723</td>\n",
       "      <td>0.814565</td>\n",
       "    </tr>\n",
       "    <tr>\n",
       "      <th>2</th>\n",
       "      <td>0.513040</td>\n",
       "      <td>0.463530</td>\n",
       "      <td>0.796103</td>\n",
       "      <td>0.646248</td>\n",
       "      <td>0.910504</td>\n",
       "    </tr>\n",
       "    <tr>\n",
       "      <th>3</th>\n",
       "      <td>0.028785</td>\n",
       "      <td>0.303364</td>\n",
       "      <td>0.286574</td>\n",
       "      <td>0.189990</td>\n",
       "      <td>0.679883</td>\n",
       "    </tr>\n",
       "    <tr>\n",
       "      <th>4</th>\n",
       "      <td>0.632568</td>\n",
       "      <td>0.611311</td>\n",
       "      <td>0.363344</td>\n",
       "      <td>0.549519</td>\n",
       "      <td>0.445853</td>\n",
       "    </tr>\n",
       "    <tr>\n",
       "      <th>5</th>\n",
       "      <td>0.644303</td>\n",
       "      <td>0.377197</td>\n",
       "      <td>0.218249</td>\n",
       "      <td>0.776467</td>\n",
       "      <td>0.796167</td>\n",
       "    </tr>\n",
       "    <tr>\n",
       "      <th>6</th>\n",
       "      <td>0.271269</td>\n",
       "      <td>0.040997</td>\n",
       "      <td>0.101029</td>\n",
       "      <td>0.014694</td>\n",
       "      <td>0.478074</td>\n",
       "    </tr>\n",
       "    <tr>\n",
       "      <th>7</th>\n",
       "      <td>0.243174</td>\n",
       "      <td>0.215521</td>\n",
       "      <td>0.996762</td>\n",
       "      <td>0.785726</td>\n",
       "      <td>0.069866</td>\n",
       "    </tr>\n",
       "    <tr>\n",
       "      <th>8</th>\n",
       "      <td>0.885198</td>\n",
       "      <td>0.475580</td>\n",
       "      <td>0.836344</td>\n",
       "      <td>0.489876</td>\n",
       "      <td>0.574516</td>\n",
       "    </tr>\n",
       "    <tr>\n",
       "      <th>9</th>\n",
       "      <td>0.726644</td>\n",
       "      <td>0.663296</td>\n",
       "      <td>0.395086</td>\n",
       "      <td>0.136618</td>\n",
       "      <td>0.344040</td>\n",
       "    </tr>\n",
       "    <tr>\n",
       "      <th>10</th>\n",
       "      <td>0.386024</td>\n",
       "      <td>0.319443</td>\n",
       "      <td>0.889174</td>\n",
       "      <td>0.318780</td>\n",
       "      <td>0.173788</td>\n",
       "    </tr>\n",
       "    <tr>\n",
       "      <th>11</th>\n",
       "      <td>0.455480</td>\n",
       "      <td>0.416573</td>\n",
       "      <td>0.658231</td>\n",
       "      <td>0.095885</td>\n",
       "      <td>0.794050</td>\n",
       "    </tr>\n",
       "    <tr>\n",
       "      <th>12</th>\n",
       "      <td>0.896123</td>\n",
       "      <td>0.939001</td>\n",
       "      <td>0.939200</td>\n",
       "      <td>0.680683</td>\n",
       "      <td>0.296813</td>\n",
       "    </tr>\n",
       "    <tr>\n",
       "      <th>13</th>\n",
       "      <td>0.703619</td>\n",
       "      <td>0.661137</td>\n",
       "      <td>0.058810</td>\n",
       "      <td>0.626462</td>\n",
       "      <td>0.678073</td>\n",
       "    </tr>\n",
       "    <tr>\n",
       "      <th>14</th>\n",
       "      <td>0.304972</td>\n",
       "      <td>0.925890</td>\n",
       "      <td>0.184285</td>\n",
       "      <td>0.111127</td>\n",
       "      <td>0.623091</td>\n",
       "    </tr>\n",
       "    <tr>\n",
       "      <th>15</th>\n",
       "      <td>0.687262</td>\n",
       "      <td>0.756489</td>\n",
       "      <td>0.817401</td>\n",
       "      <td>0.272307</td>\n",
       "      <td>0.774603</td>\n",
       "    </tr>\n",
       "    <tr>\n",
       "      <th>16</th>\n",
       "      <td>0.561181</td>\n",
       "      <td>0.922115</td>\n",
       "      <td>0.313582</td>\n",
       "      <td>0.645422</td>\n",
       "      <td>0.544851</td>\n",
       "    </tr>\n",
       "    <tr>\n",
       "      <th>17</th>\n",
       "      <td>0.084585</td>\n",
       "      <td>0.413296</td>\n",
       "      <td>0.311165</td>\n",
       "      <td>0.213340</td>\n",
       "      <td>0.786886</td>\n",
       "    </tr>\n",
       "    <tr>\n",
       "      <th>18</th>\n",
       "      <td>0.465448</td>\n",
       "      <td>0.753047</td>\n",
       "      <td>0.119165</td>\n",
       "      <td>0.385946</td>\n",
       "      <td>0.895541</td>\n",
       "    </tr>\n",
       "    <tr>\n",
       "      <th>19</th>\n",
       "      <td>0.696592</td>\n",
       "      <td>0.488608</td>\n",
       "      <td>0.495455</td>\n",
       "      <td>0.524565</td>\n",
       "      <td>0.480813</td>\n",
       "    </tr>\n",
       "  </tbody>\n",
       "</table>\n",
       "</div>"
      ],
      "text/plain": [
       "           0         1         2         3         4\n",
       "0   0.983204  0.297687  0.113617  0.322789  0.364907\n",
       "1   0.472510  0.642895  0.414901  0.165723  0.814565\n",
       "2   0.513040  0.463530  0.796103  0.646248  0.910504\n",
       "3   0.028785  0.303364  0.286574  0.189990  0.679883\n",
       "4   0.632568  0.611311  0.363344  0.549519  0.445853\n",
       "5   0.644303  0.377197  0.218249  0.776467  0.796167\n",
       "6   0.271269  0.040997  0.101029  0.014694  0.478074\n",
       "7   0.243174  0.215521  0.996762  0.785726  0.069866\n",
       "8   0.885198  0.475580  0.836344  0.489876  0.574516\n",
       "9   0.726644  0.663296  0.395086  0.136618  0.344040\n",
       "10  0.386024  0.319443  0.889174  0.318780  0.173788\n",
       "11  0.455480  0.416573  0.658231  0.095885  0.794050\n",
       "12  0.896123  0.939001  0.939200  0.680683  0.296813\n",
       "13  0.703619  0.661137  0.058810  0.626462  0.678073\n",
       "14  0.304972  0.925890  0.184285  0.111127  0.623091\n",
       "15  0.687262  0.756489  0.817401  0.272307  0.774603\n",
       "16  0.561181  0.922115  0.313582  0.645422  0.544851\n",
       "17  0.084585  0.413296  0.311165  0.213340  0.786886\n",
       "18  0.465448  0.753047  0.119165  0.385946  0.895541\n",
       "19  0.696592  0.488608  0.495455  0.524565  0.480813"
      ]
     },
     "execution_count": 8,
     "metadata": {},
     "output_type": "execute_result"
    }
   ],
   "source": [
    "pd.DataFrame(np.random.rand(20,5)) # 5 columns and 20 rows of random floats"
   ]
  },
  {
   "cell_type": "code",
   "execution_count": 9,
   "metadata": {},
   "outputs": [
    {
     "name": "stdout",
     "output_type": "stream",
     "text": [
      "<class 'pandas.core.frame.DataFrame'>\n",
      "RangeIndex: 1 entries, 0 to 0\n",
      "Data columns (total 4 columns):\n",
      "A    1 non-null int64\n",
      "B    1 non-null int64\n",
      "C    1 non-null int64\n",
      "D    1 non-null int64\n",
      "dtypes: int64(4)\n",
      "memory usage: 112.0 bytes\n"
     ]
    }
   ],
   "source": [
    "df.info()"
   ]
  },
  {
   "cell_type": "code",
   "execution_count": 10,
   "metadata": {},
   "outputs": [
    {
     "data": {
      "text/plain": [
       "(1, 4)"
      ]
     },
     "execution_count": 10,
     "metadata": {},
     "output_type": "execute_result"
    }
   ],
   "source": [
    "df.shape"
   ]
  },
  {
   "cell_type": "code",
   "execution_count": 11,
   "metadata": {},
   "outputs": [
    {
     "data": {
      "text/plain": [
       "RangeIndex(start=0, stop=1, step=1)"
      ]
     },
     "execution_count": 11,
     "metadata": {},
     "output_type": "execute_result"
    }
   ],
   "source": [
    "df.index"
   ]
  },
  {
   "cell_type": "code",
   "execution_count": 12,
   "metadata": {},
   "outputs": [
    {
     "data": {
      "text/plain": [
       "Index(['A', 'B', 'C', 'D'], dtype='object')"
      ]
     },
     "execution_count": 12,
     "metadata": {},
     "output_type": "execute_result"
    }
   ],
   "source": [
    "df.columns"
   ]
  },
  {
   "cell_type": "code",
   "execution_count": 13,
   "metadata": {},
   "outputs": [
    {
     "data": {
      "text/plain": [
       "A    1\n",
       "B    1\n",
       "C    1\n",
       "D    1\n",
       "dtype: int64"
      ]
     },
     "execution_count": 13,
     "metadata": {},
     "output_type": "execute_result"
    }
   ],
   "source": [
    "df.count()"
   ]
  },
  {
   "cell_type": "code",
   "execution_count": 14,
   "metadata": {},
   "outputs": [
    {
     "data": {
      "text/plain": [
       "A    1\n",
       "B    2\n",
       "C    3\n",
       "D    4\n",
       "dtype: int64"
      ]
     },
     "execution_count": 14,
     "metadata": {},
     "output_type": "execute_result"
    }
   ],
   "source": [
    "df.sum()"
   ]
  },
  {
   "cell_type": "code",
   "execution_count": 15,
   "metadata": {},
   "outputs": [
    {
     "data": {
      "text/html": [
       "<div>\n",
       "<style scoped>\n",
       "    .dataframe tbody tr th:only-of-type {\n",
       "        vertical-align: middle;\n",
       "    }\n",
       "\n",
       "    .dataframe tbody tr th {\n",
       "        vertical-align: top;\n",
       "    }\n",
       "\n",
       "    .dataframe thead th {\n",
       "        text-align: right;\n",
       "    }\n",
       "</style>\n",
       "<table border=\"1\" class=\"dataframe\">\n",
       "  <thead>\n",
       "    <tr style=\"text-align: right;\">\n",
       "      <th></th>\n",
       "      <th>A</th>\n",
       "      <th>B</th>\n",
       "      <th>C</th>\n",
       "      <th>D</th>\n",
       "    </tr>\n",
       "  </thead>\n",
       "  <tbody>\n",
       "    <tr>\n",
       "      <th>0</th>\n",
       "      <td>1</td>\n",
       "      <td>2</td>\n",
       "      <td>3</td>\n",
       "      <td>4</td>\n",
       "    </tr>\n",
       "  </tbody>\n",
       "</table>\n",
       "</div>"
      ],
      "text/plain": [
       "   A  B  C  D\n",
       "0  1  2  3  4"
      ]
     },
     "execution_count": 15,
     "metadata": {},
     "output_type": "execute_result"
    }
   ],
   "source": [
    "df.cumsum().head()"
   ]
  },
  {
   "cell_type": "code",
   "execution_count": 16,
   "metadata": {},
   "outputs": [
    {
     "data": {
      "text/plain": [
       "A    1\n",
       "B    2\n",
       "C    3\n",
       "D    4\n",
       "dtype: int64"
      ]
     },
     "execution_count": 16,
     "metadata": {},
     "output_type": "execute_result"
    }
   ],
   "source": [
    "df.min()"
   ]
  },
  {
   "cell_type": "code",
   "execution_count": 17,
   "metadata": {},
   "outputs": [
    {
     "data": {
      "text/plain": [
       "A    1\n",
       "B    2\n",
       "C    3\n",
       "D    4\n",
       "dtype: int64"
      ]
     },
     "execution_count": 17,
     "metadata": {},
     "output_type": "execute_result"
    }
   ],
   "source": [
    "df.max()"
   ]
  },
  {
   "cell_type": "code",
   "execution_count": 18,
   "metadata": {},
   "outputs": [
    {
     "name": "stdout",
     "output_type": "stream",
     "text": [
      "df: 0\n",
      "series: b\n"
     ]
    }
   ],
   "source": [
    "print(\"df:\", df['A'].idxmin())\n",
    "print(\"series:\", mySeries.idxmin())"
   ]
  },
  {
   "cell_type": "code",
   "execution_count": 19,
   "metadata": {},
   "outputs": [
    {
     "name": "stdout",
     "output_type": "stream",
     "text": [
      "df:  0\n",
      "series:  c\n"
     ]
    }
   ],
   "source": [
    "print(\"df: \",df['D'].idxmax())\n",
    "print(\"series: \",mySeries.idxmax())"
   ]
  },
  {
   "cell_type": "code",
   "execution_count": 20,
   "metadata": {},
   "outputs": [
    {
     "data": {
      "text/html": [
       "<div>\n",
       "<style scoped>\n",
       "    .dataframe tbody tr th:only-of-type {\n",
       "        vertical-align: middle;\n",
       "    }\n",
       "\n",
       "    .dataframe tbody tr th {\n",
       "        vertical-align: top;\n",
       "    }\n",
       "\n",
       "    .dataframe thead th {\n",
       "        text-align: right;\n",
       "    }\n",
       "</style>\n",
       "<table border=\"1\" class=\"dataframe\">\n",
       "  <thead>\n",
       "    <tr style=\"text-align: right;\">\n",
       "      <th></th>\n",
       "      <th>A</th>\n",
       "      <th>B</th>\n",
       "      <th>C</th>\n",
       "      <th>D</th>\n",
       "    </tr>\n",
       "  </thead>\n",
       "  <tbody>\n",
       "    <tr>\n",
       "      <th>count</th>\n",
       "      <td>1.0</td>\n",
       "      <td>1.0</td>\n",
       "      <td>1.0</td>\n",
       "      <td>1.0</td>\n",
       "    </tr>\n",
       "    <tr>\n",
       "      <th>mean</th>\n",
       "      <td>1.0</td>\n",
       "      <td>2.0</td>\n",
       "      <td>3.0</td>\n",
       "      <td>4.0</td>\n",
       "    </tr>\n",
       "    <tr>\n",
       "      <th>std</th>\n",
       "      <td>NaN</td>\n",
       "      <td>NaN</td>\n",
       "      <td>NaN</td>\n",
       "      <td>NaN</td>\n",
       "    </tr>\n",
       "    <tr>\n",
       "      <th>min</th>\n",
       "      <td>1.0</td>\n",
       "      <td>2.0</td>\n",
       "      <td>3.0</td>\n",
       "      <td>4.0</td>\n",
       "    </tr>\n",
       "    <tr>\n",
       "      <th>25%</th>\n",
       "      <td>1.0</td>\n",
       "      <td>2.0</td>\n",
       "      <td>3.0</td>\n",
       "      <td>4.0</td>\n",
       "    </tr>\n",
       "    <tr>\n",
       "      <th>50%</th>\n",
       "      <td>1.0</td>\n",
       "      <td>2.0</td>\n",
       "      <td>3.0</td>\n",
       "      <td>4.0</td>\n",
       "    </tr>\n",
       "    <tr>\n",
       "      <th>75%</th>\n",
       "      <td>1.0</td>\n",
       "      <td>2.0</td>\n",
       "      <td>3.0</td>\n",
       "      <td>4.0</td>\n",
       "    </tr>\n",
       "    <tr>\n",
       "      <th>max</th>\n",
       "      <td>1.0</td>\n",
       "      <td>2.0</td>\n",
       "      <td>3.0</td>\n",
       "      <td>4.0</td>\n",
       "    </tr>\n",
       "  </tbody>\n",
       "</table>\n",
       "</div>"
      ],
      "text/plain": [
       "         A    B    C    D\n",
       "count  1.0  1.0  1.0  1.0\n",
       "mean   1.0  2.0  3.0  4.0\n",
       "std    NaN  NaN  NaN  NaN\n",
       "min    1.0  2.0  3.0  4.0\n",
       "25%    1.0  2.0  3.0  4.0\n",
       "50%    1.0  2.0  3.0  4.0\n",
       "75%    1.0  2.0  3.0  4.0\n",
       "max    1.0  2.0  3.0  4.0"
      ]
     },
     "execution_count": 20,
     "metadata": {},
     "output_type": "execute_result"
    }
   ],
   "source": [
    "df.describe()"
   ]
  },
  {
   "cell_type": "code",
   "execution_count": 21,
   "metadata": {},
   "outputs": [
    {
     "data": {
      "text/plain": [
       "A    1.0\n",
       "B    2.0\n",
       "C    3.0\n",
       "D    4.0\n",
       "dtype: float64"
      ]
     },
     "execution_count": 21,
     "metadata": {},
     "output_type": "execute_result"
    }
   ],
   "source": [
    "df.mean()"
   ]
  },
  {
   "cell_type": "code",
   "execution_count": null,
   "metadata": {},
   "outputs": [],
   "source": []
  }
 ],
 "metadata": {
  "kernelspec": {
   "display_name": "Python 3",
   "language": "python",
   "name": "python3"
  },
  "language_info": {
   "codemirror_mode": {
    "name": "ipython",
    "version": 3
   },
   "file_extension": ".py",
   "mimetype": "text/x-python",
   "name": "python",
   "nbconvert_exporter": "python",
   "pygments_lexer": "ipython3",
   "version": "3.7.0"
  }
 },
 "nbformat": 4,
 "nbformat_minor": 2
}
